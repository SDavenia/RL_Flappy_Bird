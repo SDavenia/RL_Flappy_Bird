{
 "cells": [
  {
   "cell_type": "code",
   "execution_count": null,
   "metadata": {},
   "outputs": [],
   "source": [
    "import numpy as np\n",
    "import matplotlib.pyplot as plt\n",
    "import statsmodels.api as sm\n",
    "\n",
    "# Generate sample data\n",
    "np.random.seed(0)\n",
    "x = np.linspace(0, 2*np.pi, 100)\n",
    "y = np.sin(x) + np.random.normal(0, 0.2, 100)\n",
    "\n",
    "# Apply LOWESS smoothing\n",
    "lowess = sm.nonparametric.lowess(y, x)\n",
    "\n",
    "# Plot the original data points\n",
    "plt.scatter(x, y, label='Data', color='b')\n",
    "\n",
    "# Plot the LOWESS curve\n",
    "plt.plot(lowess[:, 0], lowess[:, 1], label='LOWESS', color='r')\n",
    "\n",
    "# Set labels and title\n",
    "plt.xlabel('X')\n",
    "plt.ylabel('Y')\n",
    "plt.title('LOWESS Curve')\n",
    "\n",
    "# Show the legend\n",
    "plt.legend()\n",
    "\n",
    "# Show the plot\n",
    "plt.show()\n"
   ]
  }
 ],
 "metadata": {
  "language_info": {
   "name": "python"
  },
  "orig_nbformat": 4
 },
 "nbformat": 4,
 "nbformat_minor": 2
}
